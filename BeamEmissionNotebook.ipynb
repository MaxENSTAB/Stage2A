{
 "cells": [
  {
   "cell_type": "markdown",
   "metadata": {},
   "source": [
    "# Beamforming - Contre-mesures RADAR\n",
    "### Maxime BARRET\n",
    "\n",
    "\n",
    "Avec l'aide de :\n",
    "#### 'Signaux et Sytèmes' - Prof. Dr Ir Xavier Neyt \n",
    "#### 'Source Localization with sensor arrays' - Assistant Professors Charles Vanwynsberghe & Angélique Drémeau\n",
    "#### Polarized Uniform Linear Array System: Beam Radiation Pattern, Beamforming Diversity Order, and Channel Capacity, Xin Su and KyungHi Chang"
   ]
  },
  {
   "cell_type": "code",
   "execution_count": 1,
   "metadata": {},
   "outputs": [],
   "source": [
    "%matplotlib notebook\n",
    "#Indique qu'on va afficher des figures, et permet de les modifier\n",
    "\n",
    "import numpy as np\n",
    "import matplotlib.pyplot as plt\n",
    "import numpy.random as rd     \n",
    "from scipy.signal import find_peaks\n",
    "import time as t\n",
    "import warnings\n",
    " #Imports d'usage"
   ]
  },
  {
   "cell_type": "markdown",
   "metadata": {},
   "source": [
    "### Situation initiale\n",
    "\n",
    "La situation est la suivante : \n",
    "- Nous émettons à l'aide Uniform Linear Array (ULA) décrit ci-après\n",
    "- Nous avons une source, émetteur.\n",
    "- Cette source doit éclairer deux cibles, dont les échos sont correlés. \n",
    "- 10 antennes dans mon array source\n",
    "- d : distance entre mes antennes dans mon array\n",
    "- Le problème est plan\n",
    "\n"
   ]
  },
  {
   "cell_type": "markdown",
   "metadata": {},
   "source": [
    "### Description de notre ULA\n",
    "\n",
    "Le principe du Beamforming est le même que dans le DoANotebook, ici on va juste jouer sur la phase de chaque émetteur pour créer le faisceau. "
   ]
  },
  {
   "cell_type": "markdown",
   "metadata": {},
   "source": [
    "![](Beam.jpg)\n",
    "\n",
    "\n",
    "\n",
    "Le principe utilisé pour générer un faisceau est simple : chaque émetteur de notre array va générer un même signal déphasé de tel sorte que deux émetteurs consécutifs aient une ddc de  $ dsin(\\theta) $"
   ]
  },
  {
   "cell_type": "markdown",
   "metadata": {},
   "source": [
    "### Déclaration de nos variables\n",
    "\n",
    "En choisissant nos variables, nous devons faire attention à plusieurs choses :\n",
    "- Rester cohérent avec la réalité : On ne va pas mettre 100000000 de capteurs, ni avoir une fréquence de 2 Hz\n",
    "- Vérifier la condition d'échantillonnage spatial, ici : $ d < \\dfrac{\\lambda}{2} ) $\n"
   ]
  },
  {
   "cell_type": "code",
   "execution_count": 8,
   "metadata": {},
   "outputs": [],
   "source": [
    "t1 = t.time()\n",
    "c0 = 3e8   #célérité de la lumière dans l'air \n",
    "d = 0.4          #Distance entre mes émetteurs\n",
    "M1 = 10            #Nombre d'émetteurs sur un RADAR ennemi\n",
    "N = 4*721\n",
    "angle = np.linspace(-np.pi/2,np.pi/2,N)     #Grille sur laquel on va chercher l'angle d'incidence\n",
    "\n",
    "theta0 = 0   #Angle d'incidence auquel se situe le radar qu'on doit tromper : là, il est en face de la cible.\n",
    "lam = 1  #Correspond à une fréquence de 300 Mhz, sachant qu'un radar se situe entre 300Mhz et 15 Ghz\n",
    "         #Attention, la résolution du beamforming baisse si la fréquence est faible\n",
    "\n",
    "#A priori, ce sont des paramètres qui ne sont pas amenés à bouger."
   ]
  },
  {
   "cell_type": "code",
   "execution_count": 9,
   "metadata": {},
   "outputs": [],
   "source": [
    "from BeamformingMethods import a, compute_A, DP\n"
   ]
  },
  {
   "cell_type": "markdown",
   "metadata": {},
   "source": [
    "## I-  Direction d'émission\n",
    "\n",
    "Dans un premier temps, nous allons illustrer la direction choisie.\n",
    "Mes émetteurs, au nombre de 10, vont émettre un même signal s, mais déphasé, afin de générer un faisceau.\n",
    "C'est un classic beamformer.\n",
    "\n",
    "$$ \\mathbf{s}(t) = \\mathbf{A}_s * cos(\\dfrac{2 \\pi c_0}{\\lambda} t)   + \\mathbf{b} $$ \n",
    "\n",
    "\n",
    "Le déphasage entre 2 émetteurs consécutifs sera de \n",
    "$$ \\mathbf{\\Delta\\phi} = \\dfrac{2\\pi d}{\\lambda}sin(\\theta) $$\n",
    "pour traduire la différence de chemin de $ dsin(\\theta) $"
   ]
  },
  {
   "cell_type": "code",
   "execution_count": 28,
   "metadata": {},
   "outputs": [],
   "source": [
    "theta_e =  -np.pi/4  \n",
    "sig_n = 3e-1   #Ecart-type de notre bruit, que je vais considérer Gaussien et additif\n",
    "\n",
    "temp = rd.randn(M1)\n",
    "s = [np.cos(2*np.pi*c0*i/lam) for i in range(M1)]\n",
    "n = sig_n*(rd.randn(M1))  #Gaussien centré\n",
    "delta_phi = 2*np.pi*d*np.sin(theta_e)/lam\n",
    "steer = a(theta_e,lam,M1)\n",
    "steer2 = compute_A([theta_e],lam,M1)\n",
    "S = steer@s +n\n"
   ]
  },
  {
   "cell_type": "markdown",
   "metadata": {},
   "source": []
  },
  {
   "cell_type": "code",
   "execution_count": 66,
   "metadata": {},
   "outputs": [],
   "source": []
  },
  {
   "cell_type": "code",
   "execution_count": null,
   "metadata": {},
   "outputs": [],
   "source": [
    "\n"
   ]
  },
  {
   "cell_type": "code",
   "execution_count": null,
   "metadata": {},
   "outputs": [],
   "source": []
  },
  {
   "cell_type": "code",
   "execution_count": null,
   "metadata": {},
   "outputs": [],
   "source": []
  }
 ],
 "metadata": {
  "kernelspec": {
   "display_name": "Python 3",
   "language": "python",
   "name": "python3"
  },
  "language_info": {
   "codemirror_mode": {
    "name": "ipython",
    "version": 3
   },
   "file_extension": ".py",
   "mimetype": "text/x-python",
   "name": "python",
   "nbconvert_exporter": "python",
   "pygments_lexer": "ipython3",
   "version": "3.7.4"
  }
 },
 "nbformat": 4,
 "nbformat_minor": 2
}
