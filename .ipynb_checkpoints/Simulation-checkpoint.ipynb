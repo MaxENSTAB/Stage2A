{
 "cells": [
  {
   "cell_type": "markdown",
   "metadata": {},
   "source": [
    "# Beamforming - Contre-mesures RADAR\n",
    "\n",
    "## Situation réelle\n",
    "\n",
    "### Maxime BARRET\n",
    "\n",
    "\n",
    "Avec l'aide de :\n",
    "#### 'Signaux et Sytèmes' - Prof. Dr Ir Xavier Neyt \n",
    "#### 'Source Localization with sensor arrays' - Assistant Professors Charles Vanwynsberghe & Angélique Drémeau"
   ]
  },
  {
   "cell_type": "markdown",
   "metadata": {},
   "source": [
    "\n",
    "### Les deux notebooks précédents illustrent respectivement : \n",
    "- L'estimation de la direction d'arrivée d'un signal et la comparaison de différentes méthodes (Justesse, faux-positif, non-détection, robustesse de la méthode au mouvement)\n",
    "- La mise en place d'une situation s'approchant de la réalité et introduire le principe d'émission dans une certaine direction. \n",
    "\n",
    "### Le but est à présent de mettre en place une situation combinant les deux\n",
    "c.f. Mail du 13 Août 2020\n",
    "\n",
    "Nous aurons un système allié, et deux systèmes ennemis. \n",
    "Les deux systèmes ennemis envoient chacun un signal ($s1$ et $s2$ respectivement), ces signaux étant correllés.\n",
    "Au niveau de notre système allié, nous recevons $s0$ "
   ]
  },
  {
   "cell_type": "code",
   "execution_count": 1,
   "metadata": {},
   "outputs": [],
   "source": [
    "#TODO Copier le code matlab, rendre les s1 et s2 cohérents, et prier"
   ]
  },
  {
   "cell_type": "code",
   "execution_count": null,
   "metadata": {},
   "outputs": [],
   "source": []
  }
 ],
 "metadata": {
  "kernelspec": {
   "display_name": "Python 3",
   "language": "python",
   "name": "python3"
  },
  "language_info": {
   "codemirror_mode": {
    "name": "ipython",
    "version": 3
   },
   "file_extension": ".py",
   "mimetype": "text/x-python",
   "name": "python",
   "nbconvert_exporter": "python",
   "pygments_lexer": "ipython3",
   "version": "3.7.4"
  }
 },
 "nbformat": 4,
 "nbformat_minor": 2
}
